{
 "cells": [
  {
   "cell_type": "code",
   "execution_count": null,
   "id": "3d910eee-27f7-48ce-a7f2-d8fcc60fe019",
   "metadata": {},
   "outputs": [],
   "source": [
    "Q1. What is a database? Differentiate between SQL and NoSQL databases."
   ]
  },
  {
   "cell_type": "code",
   "execution_count": null,
   "id": "390c57c7-00fa-4d32-bf09-a04bbacf8b3b",
   "metadata": {},
   "outputs": [],
   "source": [
    "A database is an organized collection of structured information, or data, typically stored electronically in \n",
    "a computer system. A database is usually controlled by a database management system (DBMS)\n",
    "\n",
    "\n",
    "\n",
    "SQL databases are vertically scalable, while NoSQL databases are horizontally scalable. \n",
    "SQL databases are table-based, while NoSQL databases are document, key-value, graph, or wide-column stores. \n",
    "SQL databases are better for multi-row transactions,\n",
    "while NoSQL is better for unstructured data like documents or JSON."
   ]
  },
  {
   "cell_type": "code",
   "execution_count": null,
   "id": "85a96122-b7c9-42f2-866c-65a0c146dfc3",
   "metadata": {},
   "outputs": [],
   "source": [
    "Q2. What is DDL? Explain why CREATE, DROP, ALTER, and TRUNCATE are used with an example."
   ]
  },
  {
   "cell_type": "code",
   "execution_count": null,
   "id": "8ea367a2-203e-4cbe-b4f7-fe8c410844b4",
   "metadata": {},
   "outputs": [],
   "source": [
    "DDL(Data Defination Language it is subset of sql) is a standardized language with commands to \n",
    "define the storage groups (stogroups), different structures \n",
    "and objects in a database\n",
    "CREATE :\n",
    "This command is used to create a new table in SQL.\n",
    "The user has to give information like table name, column names, and their datatypes.\n",
    "eg-\n",
    "CREATE TABLE Student_info\n",
    "(\n",
    "College_Id number(2),\n",
    "College_name varchar(30),\n",
    "Branch varchar(10)\n",
    ");\n",
    "\n",
    "\n",
    "\n",
    "ALTER :\n",
    "This command is used to add, delete or change columns in the existing table.\n",
    "The user needs to know the existing table name and can\n",
    "do add, delete or modify tasks easily.\n",
    "eg- ALTER TABLE Student_info\n",
    "    ADD CGPA number;\n",
    "TRUNCATE :\n",
    "This command is used to remove all rows from the table,\n",
    "but the structure of the table still exists.\n",
    "eg-\n",
    "TRUNCATE TABLE Student_info;\n",
    "\n",
    "DROP :\n",
    "This command is used to remove an\n",
    "existing table along with its structure from the Database.\n",
    "eg-\n",
    "DROP TABLE Student_info;\n",
    "\n",
    "RENAME TABLE Employee To EMP;\n"
   ]
  },
  {
   "cell_type": "code",
   "execution_count": null,
   "id": "fb4bb083-1346-42c2-a50a-ef55377491ed",
   "metadata": {},
   "outputs": [],
   "source": [
    "Q3. What is DML? Explain INSERT, UPDATE, and DELETE with an example."
   ]
  },
  {
   "cell_type": "code",
   "execution_count": null,
   "id": "7a6701cc-698a-41b1-9deb-3e8aca2591ee",
   "metadata": {},
   "outputs": [],
   "source": [
    "Data modification language statements (DML) INSERT, UPDATE, and DELETE. Use the INSERT \n",
    "command to enter data into a table\n",
    "\n",
    "Insert command is used to insert data into a table\n",
    "Insert into <table_name> (column list) values (column values);\n",
    "Insert into Employee(Emp_id, Emp_name) values (001, “ bhanu”);\n",
    "\n",
    "Update command is used to update existing data within a table.\n",
    "UPDATE Employee SET Emp_name= Ram WHERE Emp_id= 001;\n",
    "\n",
    "\n",
    "Delete command is used to delete records from a database table.\n",
    "DELETE from Employee WHERE Emp_id=002;\n"
   ]
  },
  {
   "cell_type": "code",
   "execution_count": null,
   "id": "f35a7d57-3712-406c-833b-db8140a9b4a8",
   "metadata": {},
   "outputs": [],
   "source": [
    "What is DQL? Explain SELECT with an example."
   ]
  },
  {
   "cell_type": "code",
   "execution_count": null,
   "id": "db1eb557-dac3-4c2b-9dc6-2356b9390b96",
   "metadata": {},
   "outputs": [],
   "source": [
    "DQL is a portion of a SQL statement that allows you \n",
    "to get and organise data from a database.\n",
    "You can use the SELECT command to extract data from a database in order to perform actions on it. It is\n",
    "the same as the projection operation in relational algebra.\n"
   ]
  },
  {
   "cell_type": "code",
   "execution_count": null,
   "id": "570f198e-f29a-416d-aa28-d87bec2fd1f1",
   "metadata": {},
   "outputs": [],
   "source": [
    "Q5. Explain Primary Key and Foreign Key."
   ]
  },
  {
   "cell_type": "code",
   "execution_count": null,
   "id": "1399daa5-1fb2-465d-ad90-82aca1c6cb4b",
   "metadata": {},
   "outputs": [],
   "source": [
    "primary key is a unique column we set  in a table to locate data in queries\n",
    "a table can have only one primary key which should be unique and NOT NULL\n",
    "for eg roll no in classroom\n",
    "\n",
    "FORIEGN KEYS\n",
    "A foriegn key is a column used to lind two or more table together\n",
    "it contain null and duplicate values"
   ]
  },
  {
   "cell_type": "code",
   "execution_count": null,
   "id": "6e6820dc-2307-4a22-b34b-019e717a7137",
   "metadata": {},
   "outputs": [],
   "source": [
    "Q6. Write a python code to connect MySQL to python. Explain the cursor() and execute() method."
   ]
  },
  {
   "cell_type": "code",
   "execution_count": null,
   "id": "d62a67a3-de25-4c12-99fd-7131d7f79b6e",
   "metadata": {},
   "outputs": [],
   "source": [
    "import mysql.connector\n",
    "# import mysql.connector\n",
    "#create user 'user'@'%' identified by 'password'\n",
    "mydb = mysql.connector.connect(\n",
    "  host=\"localhost\",\n",
    "  user=\"abc\",\n",
    "  password=\"password\"\n",
    ")\n",
    "print(mydb)\n",
    "mycursor = mydb.cursor()\n",
    "mycursor.execute(\"SHOW DATABASES\")\n",
    "for x in mycursor:\n",
    "    print(x)\n",
    "    \n",
    "    "
   ]
  },
  {
   "cell_type": "code",
   "execution_count": null,
   "id": "97fdd1f4-a963-4feb-aafe-443e5e503c4f",
   "metadata": {},
   "outputs": [],
   "source": [
    "Q7. Give the order of execution of SQL clauses in an SQL query."
   ]
  },
  {
   "cell_type": "code",
   "execution_count": null,
   "id": "16a9b080-683f-491a-857f-af676b31bc64",
   "metadata": {},
   "outputs": [],
   "source": [
    "The SQL order of execution defines the order in which the clauses of a query are evaluated. Some of the most common query \n",
    "challenges people run into could be easily avoided with a clearer understanding of the SQL order of execution,\n",
    "\n",
    "\n"
   ]
  }
 ],
 "metadata": {
  "kernelspec": {
   "display_name": "Python 3 (ipykernel)",
   "language": "python",
   "name": "python3"
  },
  "language_info": {
   "codemirror_mode": {
    "name": "ipython",
    "version": 3
   },
   "file_extension": ".py",
   "mimetype": "text/x-python",
   "name": "python",
   "nbconvert_exporter": "python",
   "pygments_lexer": "ipython3",
   "version": "3.10.8"
  }
 },
 "nbformat": 4,
 "nbformat_minor": 5
}
